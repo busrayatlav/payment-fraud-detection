{
  "nbformat": 4,
  "nbformat_minor": 0,
  "metadata": {
    "colab": {
      "provenance": []
    },
    "kernelspec": {
      "name": "python3",
      "display_name": "Python 3"
    },
    "language_info": {
      "name": "python"
    }
  },
  "cells": [
    {
      "cell_type": "code",
      "execution_count": 1,
      "metadata": {
        "id": "yty1M1kz7OeH"
      },
      "outputs": [],
      "source": [
        "import pandas as pd\n",
        "from sklearn.model_selection import train_test_split\n",
        "from sklearn.linear_model import LogisticRegression\n",
        "from sklearn.metrics import accuracy_score, confusion_matrix\n"
      ]
    },
    {
      "cell_type": "code",
      "source": [
        "# Load the dataset\n",
        "url = \"https://raw.githubusercontent.com/amankharwal/Website-data/master/payment_fraud.csv\"\n",
        "df = pd.read_csv(url)\n",
        "print(df.head())\n"
      ],
      "metadata": {
        "colab": {
          "base_uri": "https://localhost:8080/"
        },
        "id": "lvA4WOOj8Uyt",
        "outputId": "74747ebf-a4c6-4a0f-9e30-14f6d77b371d"
      },
      "execution_count": 2,
      "outputs": [
        {
          "output_type": "stream",
          "name": "stdout",
          "text": [
            "   accountAgeDays  numItems  localTime paymentMethod  paymentMethodAgeDays  \\\n",
            "0              29         1   4.745402        paypal             28.204861   \n",
            "1             725         1   4.742303   storecredit              0.000000   \n",
            "2             845         1   4.921318    creditcard              0.000000   \n",
            "3             503         1   4.886641    creditcard              0.000000   \n",
            "4            2000         1   5.040929    creditcard              0.000000   \n",
            "\n",
            "   label  \n",
            "0      0  \n",
            "1      0  \n",
            "2      0  \n",
            "3      0  \n",
            "4      0  \n"
          ]
        }
      ]
    },
    {
      "cell_type": "code",
      "source": [
        "from sklearn.preprocessing import LabelEncoder\n",
        "\n",
        "# Identify categorical columns\n",
        "categorical_columns = df.select_dtypes(include=['object']).columns\n",
        "\n",
        "# Apply label encoding to all categorical columns\n",
        "for column in categorical_columns:\n",
        "    encoder = LabelEncoder()\n",
        "    df[column] = encoder.fit_transform(df[column])\n",
        "\n",
        "# Verify changes\n",
        "print(df.head())\n"
      ],
      "metadata": {
        "colab": {
          "base_uri": "https://localhost:8080/"
        },
        "id": "40kXcPsp9C1m",
        "outputId": "0ea3beab-e17c-4221-a4a6-6b74dd4d0f3d"
      },
      "execution_count": 6,
      "outputs": [
        {
          "output_type": "stream",
          "name": "stdout",
          "text": [
            "   accountAgeDays  numItems  localTime  paymentMethod  paymentMethodAgeDays  \\\n",
            "0              29         1   4.745402              1             28.204861   \n",
            "1             725         1   4.742303              2              0.000000   \n",
            "2             845         1   4.921318              0              0.000000   \n",
            "3             503         1   4.886641              0              0.000000   \n",
            "4            2000         1   5.040929              0              0.000000   \n",
            "\n",
            "   label  \n",
            "0      0  \n",
            "1      0  \n",
            "2      0  \n",
            "3      0  \n",
            "4      0  \n"
          ]
        }
      ]
    },
    {
      "cell_type": "code",
      "source": [
        "# Split dataset into training and testing sets\n",
        "X_train, X_test, y_train, y_test = train_test_split(\n",
        "    df.drop('label', axis=1), df['label'],\n",
        "    test_size=0.33, random_state=17)\n",
        "\n",
        "# Train a logistic regression model\n",
        "clf = LogisticRegression().fit(X_train, y_train)\n",
        "\n",
        "# Predict on the test set\n",
        "y_pred = clf.predict(X_test)\n",
        "\n",
        "# Evaluate the model\n",
        "print(\"Accuracy Score:\", accuracy_score(y_pred, y_test))\n"
      ],
      "metadata": {
        "colab": {
          "base_uri": "https://localhost:8080/"
        },
        "id": "8oENeHp19D3L",
        "outputId": "f3262be4-657f-4464-82ce-2501bacde55c"
      },
      "execution_count": 7,
      "outputs": [
        {
          "output_type": "stream",
          "name": "stdout",
          "text": [
            "Accuracy Score: 1.0\n"
          ]
        }
      ]
    },
    {
      "cell_type": "code",
      "source": [
        "# Evaluate model performance using confusion matrix\n",
        "print(confusion_matrix(y_test, y_pred))\n"
      ],
      "metadata": {
        "colab": {
          "base_uri": "https://localhost:8080/"
        },
        "id": "cuIgScNm9Gfq",
        "outputId": "ff80a3fc-272b-4b99-8738-6c4120af83ba"
      },
      "execution_count": 8,
      "outputs": [
        {
          "output_type": "stream",
          "name": "stdout",
          "text": [
            "[[12753     0]\n",
            " [    0   190]]\n"
          ]
        }
      ]
    },
    {
      "cell_type": "code",
      "source": [],
      "metadata": {
        "id": "MD_tUgSd9JME"
      },
      "execution_count": null,
      "outputs": []
    }
  ]
}